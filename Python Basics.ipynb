{
 "cells": [
  {
   "cell_type": "markdown",
   "id": "e6bd69f2",
   "metadata": {},
   "source": [
    "# Mid-Course Project\n",
    "\n",
    "Hi There, and thanks for your help. If you're reading this you've been selected to help on a secret initiative.\n",
    "\n",
    "You will be helping us analyze a portion of data from a company we want to acquire, which could greatly improve the fortunes of Maven Mega Mart.\n",
    "\n",
    "We'll be working with `project_transactions.csv` and briefly take a look at `product.csv`.\n",
    "\n",
    "First, read in the transactions data and explore it.\n",
    "\n",
    "* Take a look at the raw data, the datatypes, and cast `DAY`, `QUANTITY`, `STORE_ID`, and `WEEK_NO` columns to the smallest appropriate datatype. Check the memory reduction by doing so.\n",
    "* Is there any missing data?\n",
    "* How many unique households and products are there in the data? The fields household_key and Product_ID will help here."
   ]
  },
  {
   "cell_type": "code",
   "execution_count": 1,
   "id": "048c011c",
   "metadata": {},
   "outputs": [],
   "source": [
    "import pandas as pd\n",
    "import numpy as np"
   ]
  },
  {
   "cell_type": "code",
   "execution_count": 3,
   "id": "c019ac8e",
   "metadata": {},
   "outputs": [],
   "source": [
    "transactions = pd.read_csv(\"../project_data/project_transactions.csv\")"
   ]
  },
  {
   "cell_type": "code",
   "execution_count": 4,
   "id": "20749686",
   "metadata": {},
   "outputs": [
    {
     "data": {
      "text/html": [
       "<div>\n",
       "<style scoped>\n",
       "    .dataframe tbody tr th:only-of-type {\n",
       "        vertical-align: middle;\n",
       "    }\n",
       "\n",
       "    .dataframe tbody tr th {\n",
       "        vertical-align: top;\n",
       "    }\n",
       "\n",
       "    .dataframe thead th {\n",
       "        text-align: right;\n",
       "    }\n",
       "</style>\n",
       "<table border=\"1\" class=\"dataframe\">\n",
       "  <thead>\n",
       "    <tr style=\"text-align: right;\">\n",
       "      <th></th>\n",
       "      <th>household_key</th>\n",
       "      <th>BASKET_ID</th>\n",
       "      <th>DAY</th>\n",
       "      <th>PRODUCT_ID</th>\n",
       "      <th>QUANTITY</th>\n",
       "      <th>SALES_VALUE</th>\n",
       "      <th>STORE_ID</th>\n",
       "      <th>RETAIL_DISC</th>\n",
       "      <th>WEEK_NO</th>\n",
       "      <th>COUPON_DISC</th>\n",
       "      <th>COUPON_MATCH_DISC</th>\n",
       "    </tr>\n",
       "  </thead>\n",
       "  <tbody>\n",
       "    <tr>\n",
       "      <th>2146306</th>\n",
       "      <td>1598</td>\n",
       "      <td>42305362535</td>\n",
       "      <td>711</td>\n",
       "      <td>92130</td>\n",
       "      <td>1</td>\n",
       "      <td>0.99</td>\n",
       "      <td>3228</td>\n",
       "      <td>0.00</td>\n",
       "      <td>102</td>\n",
       "      <td>0.0</td>\n",
       "      <td>0.0</td>\n",
       "    </tr>\n",
       "    <tr>\n",
       "      <th>2146307</th>\n",
       "      <td>1598</td>\n",
       "      <td>42305362535</td>\n",
       "      <td>711</td>\n",
       "      <td>114102</td>\n",
       "      <td>1</td>\n",
       "      <td>8.89</td>\n",
       "      <td>3228</td>\n",
       "      <td>0.00</td>\n",
       "      <td>102</td>\n",
       "      <td>0.0</td>\n",
       "      <td>0.0</td>\n",
       "    </tr>\n",
       "    <tr>\n",
       "      <th>2146308</th>\n",
       "      <td>1598</td>\n",
       "      <td>42305362535</td>\n",
       "      <td>711</td>\n",
       "      <td>133449</td>\n",
       "      <td>1</td>\n",
       "      <td>6.99</td>\n",
       "      <td>3228</td>\n",
       "      <td>0.00</td>\n",
       "      <td>102</td>\n",
       "      <td>0.0</td>\n",
       "      <td>0.0</td>\n",
       "    </tr>\n",
       "    <tr>\n",
       "      <th>2146309</th>\n",
       "      <td>1598</td>\n",
       "      <td>42305362535</td>\n",
       "      <td>711</td>\n",
       "      <td>6923644</td>\n",
       "      <td>1</td>\n",
       "      <td>4.50</td>\n",
       "      <td>3228</td>\n",
       "      <td>-0.49</td>\n",
       "      <td>102</td>\n",
       "      <td>0.0</td>\n",
       "      <td>0.0</td>\n",
       "    </tr>\n",
       "    <tr>\n",
       "      <th>2146310</th>\n",
       "      <td>1598</td>\n",
       "      <td>42305362535</td>\n",
       "      <td>711</td>\n",
       "      <td>14055192</td>\n",
       "      <td>1</td>\n",
       "      <td>6.99</td>\n",
       "      <td>3228</td>\n",
       "      <td>0.00</td>\n",
       "      <td>102</td>\n",
       "      <td>0.0</td>\n",
       "      <td>0.0</td>\n",
       "    </tr>\n",
       "  </tbody>\n",
       "</table>\n",
       "</div>"
      ],
      "text/plain": [
       "         household_key    BASKET_ID  DAY  PRODUCT_ID  QUANTITY  SALES_VALUE  \\\n",
       "2146306           1598  42305362535  711       92130         1         0.99   \n",
       "2146307           1598  42305362535  711      114102         1         8.89   \n",
       "2146308           1598  42305362535  711      133449         1         6.99   \n",
       "2146309           1598  42305362535  711     6923644         1         4.50   \n",
       "2146310           1598  42305362535  711    14055192         1         6.99   \n",
       "\n",
       "         STORE_ID  RETAIL_DISC  WEEK_NO  COUPON_DISC  COUPON_MATCH_DISC  \n",
       "2146306      3228         0.00      102          0.0                0.0  \n",
       "2146307      3228         0.00      102          0.0                0.0  \n",
       "2146308      3228         0.00      102          0.0                0.0  \n",
       "2146309      3228        -0.49      102          0.0                0.0  \n",
       "2146310      3228         0.00      102          0.0                0.0  "
      ]
     },
     "execution_count": 4,
     "metadata": {},
     "output_type": "execute_result"
    }
   ],
   "source": [
    "transactions.tail()"
   ]
  },
  {
   "cell_type": "code",
   "execution_count": 5,
   "id": "4c10e5f5",
   "metadata": {},
   "outputs": [
    {
     "name": "stdout",
     "output_type": "stream",
     "text": [
      "<class 'pandas.core.frame.DataFrame'>\n",
      "RangeIndex: 2146311 entries, 0 to 2146310\n",
      "Data columns (total 11 columns):\n",
      " #   Column             Dtype  \n",
      "---  ------             -----  \n",
      " 0   household_key      int64  \n",
      " 1   BASKET_ID          int64  \n",
      " 2   DAY                int64  \n",
      " 3   PRODUCT_ID         int64  \n",
      " 4   QUANTITY           int64  \n",
      " 5   SALES_VALUE        float64\n",
      " 6   STORE_ID           int64  \n",
      " 7   RETAIL_DISC        float64\n",
      " 8   WEEK_NO            int64  \n",
      " 9   COUPON_DISC        float64\n",
      " 10  COUPON_MATCH_DISC  float64\n",
      "dtypes: float64(4), int64(7)\n",
      "memory usage: 180.1 MB\n"
     ]
    }
   ],
   "source": [
    "transactions.info(memory_usage=\"deep\")"
   ]
  },
  {
   "cell_type": "code",
   "execution_count": 6,
   "id": "22fb8381",
   "metadata": {},
   "outputs": [
    {
     "data": {
      "text/plain": [
       "household_key        0\n",
       "BASKET_ID            0\n",
       "DAY                  0\n",
       "PRODUCT_ID           0\n",
       "QUANTITY             0\n",
       "SALES_VALUE          0\n",
       "STORE_ID             0\n",
       "RETAIL_DISC          0\n",
       "WEEK_NO              0\n",
       "COUPON_DISC          0\n",
       "COUPON_MATCH_DISC    0\n",
       "dtype: int64"
      ]
     },
     "execution_count": 6,
     "metadata": {},
     "output_type": "execute_result"
    }
   ],
   "source": [
    "transactions.isna().sum()"
   ]
  },
  {
   "cell_type": "code",
   "execution_count": 7,
   "id": "c6fdf78f",
   "metadata": {},
   "outputs": [
    {
     "data": {
      "text/plain": [
       "household_key     2099\n",
       "PRODUCT_ID       84138\n",
       "dtype: int64"
      ]
     },
     "execution_count": 7,
     "metadata": {},
     "output_type": "execute_result"
    }
   ],
   "source": [
    "transactions[[\"household_key\",\"PRODUCT_ID\"]].nunique()"
   ]
  },
  {
   "cell_type": "markdown",
   "id": "42983a48",
   "metadata": {},
   "source": [
    "## Column Creation\n",
    "\n",
    "Create two columns:\n",
    "\n",
    "* A column that captures the `total_discount` by row (sum of `RETAIL_DISC`, `COUPON_DISC`)\n",
    "* The percentage disount (`total_discount` / `SALES_VALUE`). Make sure this is positive (try `.abs()`).\n",
    "* If the percentage discount is greater than 1, set it equal to 1. If it is less than 0, set it to 0. \n",
    "* Drop the individual discount columns (`RETAIL_DISC`, `COUPON_DISC`, `COUPON_MATCH_DISC`).\n",
    "\n",
    "Feel free to overwrite the existing transaction DataFrame after making the modifications above."
   ]
  },
  {
   "cell_type": "code",
   "execution_count": 8,
   "id": "e0af83c4",
   "metadata": {},
   "outputs": [
    {
     "data": {
      "text/html": [
       "<div>\n",
       "<style scoped>\n",
       "    .dataframe tbody tr th:only-of-type {\n",
       "        vertical-align: middle;\n",
       "    }\n",
       "\n",
       "    .dataframe tbody tr th {\n",
       "        vertical-align: top;\n",
       "    }\n",
       "\n",
       "    .dataframe thead th {\n",
       "        text-align: right;\n",
       "    }\n",
       "</style>\n",
       "<table border=\"1\" class=\"dataframe\">\n",
       "  <thead>\n",
       "    <tr style=\"text-align: right;\">\n",
       "      <th></th>\n",
       "      <th>household_key</th>\n",
       "      <th>BASKET_ID</th>\n",
       "      <th>DAY</th>\n",
       "      <th>PRODUCT_ID</th>\n",
       "      <th>QUANTITY</th>\n",
       "      <th>SALES_VALUE</th>\n",
       "      <th>STORE_ID</th>\n",
       "      <th>WEEK_NO</th>\n",
       "      <th>total_discount</th>\n",
       "      <th>percentage_disc</th>\n",
       "    </tr>\n",
       "  </thead>\n",
       "  <tbody>\n",
       "    <tr>\n",
       "      <th>783585</th>\n",
       "      <td>1510</td>\n",
       "      <td>31527793182</td>\n",
       "      <td>306</td>\n",
       "      <td>1027642</td>\n",
       "      <td>1</td>\n",
       "      <td>2.49</td>\n",
       "      <td>429</td>\n",
       "      <td>44</td>\n",
       "      <td>-0.10</td>\n",
       "      <td>0.040161</td>\n",
       "    </tr>\n",
       "    <tr>\n",
       "      <th>682917</th>\n",
       "      <td>1314</td>\n",
       "      <td>31070568178</td>\n",
       "      <td>273</td>\n",
       "      <td>950577</td>\n",
       "      <td>1</td>\n",
       "      <td>3.69</td>\n",
       "      <td>429</td>\n",
       "      <td>40</td>\n",
       "      <td>0.00</td>\n",
       "      <td>0.000000</td>\n",
       "    </tr>\n",
       "    <tr>\n",
       "      <th>107407</th>\n",
       "      <td>1550</td>\n",
       "      <td>28069030707</td>\n",
       "      <td>91</td>\n",
       "      <td>9526271</td>\n",
       "      <td>1</td>\n",
       "      <td>1.00</td>\n",
       "      <td>340</td>\n",
       "      <td>14</td>\n",
       "      <td>-0.59</td>\n",
       "      <td>0.590000</td>\n",
       "    </tr>\n",
       "    <tr>\n",
       "      <th>897673</th>\n",
       "      <td>1421</td>\n",
       "      <td>32006635938</td>\n",
       "      <td>340</td>\n",
       "      <td>6534480</td>\n",
       "      <td>1</td>\n",
       "      <td>3.34</td>\n",
       "      <td>31742</td>\n",
       "      <td>49</td>\n",
       "      <td>-0.65</td>\n",
       "      <td>0.194611</td>\n",
       "    </tr>\n",
       "    <tr>\n",
       "      <th>2099706</th>\n",
       "      <td>1969</td>\n",
       "      <td>42097633181</td>\n",
       "      <td>697</td>\n",
       "      <td>918368</td>\n",
       "      <td>1</td>\n",
       "      <td>1.67</td>\n",
       "      <td>356</td>\n",
       "      <td>100</td>\n",
       "      <td>0.00</td>\n",
       "      <td>0.000000</td>\n",
       "    </tr>\n",
       "  </tbody>\n",
       "</table>\n",
       "</div>"
      ],
      "text/plain": [
       "         household_key    BASKET_ID  DAY  PRODUCT_ID  QUANTITY  SALES_VALUE  \\\n",
       "783585            1510  31527793182  306     1027642         1         2.49   \n",
       "682917            1314  31070568178  273      950577         1         3.69   \n",
       "107407            1550  28069030707   91     9526271         1         1.00   \n",
       "897673            1421  32006635938  340     6534480         1         3.34   \n",
       "2099706           1969  42097633181  697      918368         1         1.67   \n",
       "\n",
       "         STORE_ID  WEEK_NO  total_discount  percentage_disc  \n",
       "783585        429       44           -0.10         0.040161  \n",
       "682917        429       40            0.00         0.000000  \n",
       "107407        340       14           -0.59         0.590000  \n",
       "897673      31742       49           -0.65         0.194611  \n",
       "2099706       356      100            0.00         0.000000  "
      ]
     },
     "execution_count": 8,
     "metadata": {},
     "output_type": "execute_result"
    }
   ],
   "source": [
    "transactions = transactions.assign(total_discount = (transactions[\"RETAIL_DISC\"] + transactions[\"COUPON_DISC\"]),\n",
    "                percentage_disc  = ((transactions[\"RETAIL_DISC\"] + transactions[\"COUPON_DISC\"])/transactions[\"SALES_VALUE\"]).abs()\n",
    "               ).drop([\"RETAIL_DISC\", \"COUPON_DISC\", \"COUPON_MATCH_DISC\"],axis = 1)\n",
    "transactions.sample(5)"
   ]
  },
  {
   "cell_type": "code",
   "execution_count": 9,
   "id": "946f14df",
   "metadata": {},
   "outputs": [
    {
     "data": {
      "text/html": [
       "<div>\n",
       "<style scoped>\n",
       "    .dataframe tbody tr th:only-of-type {\n",
       "        vertical-align: middle;\n",
       "    }\n",
       "\n",
       "    .dataframe tbody tr th {\n",
       "        vertical-align: top;\n",
       "    }\n",
       "\n",
       "    .dataframe thead th {\n",
       "        text-align: right;\n",
       "    }\n",
       "</style>\n",
       "<table border=\"1\" class=\"dataframe\">\n",
       "  <thead>\n",
       "    <tr style=\"text-align: right;\">\n",
       "      <th></th>\n",
       "      <th>household_key</th>\n",
       "      <th>BASKET_ID</th>\n",
       "      <th>DAY</th>\n",
       "      <th>PRODUCT_ID</th>\n",
       "      <th>QUANTITY</th>\n",
       "      <th>SALES_VALUE</th>\n",
       "      <th>STORE_ID</th>\n",
       "      <th>WEEK_NO</th>\n",
       "      <th>total_discount</th>\n",
       "      <th>percentage_disc</th>\n",
       "    </tr>\n",
       "  </thead>\n",
       "  <tbody>\n",
       "    <tr>\n",
       "      <th>4</th>\n",
       "      <td>1364</td>\n",
       "      <td>26984896261</td>\n",
       "      <td>1</td>\n",
       "      <td>981760</td>\n",
       "      <td>1</td>\n",
       "      <td>0.60</td>\n",
       "      <td>31742</td>\n",
       "      <td>1</td>\n",
       "      <td>-0.79</td>\n",
       "      <td>1.0</td>\n",
       "    </tr>\n",
       "    <tr>\n",
       "      <th>51</th>\n",
       "      <td>1060</td>\n",
       "      <td>26985040735</td>\n",
       "      <td>1</td>\n",
       "      <td>924804</td>\n",
       "      <td>1</td>\n",
       "      <td>1.19</td>\n",
       "      <td>315</td>\n",
       "      <td>1</td>\n",
       "      <td>-1.20</td>\n",
       "      <td>1.0</td>\n",
       "    </tr>\n",
       "    <tr>\n",
       "      <th>59</th>\n",
       "      <td>1060</td>\n",
       "      <td>26985040735</td>\n",
       "      <td>1</td>\n",
       "      <td>992246</td>\n",
       "      <td>1</td>\n",
       "      <td>1.25</td>\n",
       "      <td>315</td>\n",
       "      <td>1</td>\n",
       "      <td>-1.34</td>\n",
       "      <td>1.0</td>\n",
       "    </tr>\n",
       "    <tr>\n",
       "      <th>136</th>\n",
       "      <td>718</td>\n",
       "      <td>26985360571</td>\n",
       "      <td>1</td>\n",
       "      <td>913785</td>\n",
       "      <td>1</td>\n",
       "      <td>0.99</td>\n",
       "      <td>324</td>\n",
       "      <td>1</td>\n",
       "      <td>-1.00</td>\n",
       "      <td>1.0</td>\n",
       "    </tr>\n",
       "    <tr>\n",
       "      <th>140</th>\n",
       "      <td>718</td>\n",
       "      <td>26985360571</td>\n",
       "      <td>1</td>\n",
       "      <td>934676</td>\n",
       "      <td>1</td>\n",
       "      <td>1.37</td>\n",
       "      <td>324</td>\n",
       "      <td>1</td>\n",
       "      <td>-1.42</td>\n",
       "      <td>1.0</td>\n",
       "    </tr>\n",
       "    <tr>\n",
       "      <th>...</th>\n",
       "      <td>...</td>\n",
       "      <td>...</td>\n",
       "      <td>...</td>\n",
       "      <td>...</td>\n",
       "      <td>...</td>\n",
       "      <td>...</td>\n",
       "      <td>...</td>\n",
       "      <td>...</td>\n",
       "      <td>...</td>\n",
       "      <td>...</td>\n",
       "    </tr>\n",
       "    <tr>\n",
       "      <th>2146069</th>\n",
       "      <td>968</td>\n",
       "      <td>42289907870</td>\n",
       "      <td>711</td>\n",
       "      <td>867668</td>\n",
       "      <td>1</td>\n",
       "      <td>1.00</td>\n",
       "      <td>402</td>\n",
       "      <td>102</td>\n",
       "      <td>-1.29</td>\n",
       "      <td>1.0</td>\n",
       "    </tr>\n",
       "    <tr>\n",
       "      <th>2146081</th>\n",
       "      <td>968</td>\n",
       "      <td>42289907870</td>\n",
       "      <td>711</td>\n",
       "      <td>928584</td>\n",
       "      <td>2</td>\n",
       "      <td>5.99</td>\n",
       "      <td>402</td>\n",
       "      <td>102</td>\n",
       "      <td>-5.99</td>\n",
       "      <td>1.0</td>\n",
       "    </tr>\n",
       "    <tr>\n",
       "      <th>2146095</th>\n",
       "      <td>968</td>\n",
       "      <td>42289907870</td>\n",
       "      <td>711</td>\n",
       "      <td>995965</td>\n",
       "      <td>2</td>\n",
       "      <td>2.99</td>\n",
       "      <td>402</td>\n",
       "      <td>102</td>\n",
       "      <td>-2.99</td>\n",
       "      <td>1.0</td>\n",
       "    </tr>\n",
       "    <tr>\n",
       "      <th>2146259</th>\n",
       "      <td>303</td>\n",
       "      <td>42289918892</td>\n",
       "      <td>711</td>\n",
       "      <td>5978656</td>\n",
       "      <td>0</td>\n",
       "      <td>0.00</td>\n",
       "      <td>343</td>\n",
       "      <td>102</td>\n",
       "      <td>-1.00</td>\n",
       "      <td>1.0</td>\n",
       "    </tr>\n",
       "    <tr>\n",
       "      <th>2146277</th>\n",
       "      <td>761</td>\n",
       "      <td>42289921056</td>\n",
       "      <td>711</td>\n",
       "      <td>1012338</td>\n",
       "      <td>1</td>\n",
       "      <td>1.00</td>\n",
       "      <td>343</td>\n",
       "      <td>102</td>\n",
       "      <td>-1.29</td>\n",
       "      <td>1.0</td>\n",
       "    </tr>\n",
       "  </tbody>\n",
       "</table>\n",
       "<p>75901 rows × 10 columns</p>\n",
       "</div>"
      ],
      "text/plain": [
       "         household_key    BASKET_ID  DAY  PRODUCT_ID  QUANTITY  SALES_VALUE  \\\n",
       "4                 1364  26984896261    1      981760         1         0.60   \n",
       "51                1060  26985040735    1      924804         1         1.19   \n",
       "59                1060  26985040735    1      992246         1         1.25   \n",
       "136                718  26985360571    1      913785         1         0.99   \n",
       "140                718  26985360571    1      934676         1         1.37   \n",
       "...                ...          ...  ...         ...       ...          ...   \n",
       "2146069            968  42289907870  711      867668         1         1.00   \n",
       "2146081            968  42289907870  711      928584         2         5.99   \n",
       "2146095            968  42289907870  711      995965         2         2.99   \n",
       "2146259            303  42289918892  711     5978656         0         0.00   \n",
       "2146277            761  42289921056  711     1012338         1         1.00   \n",
       "\n",
       "         STORE_ID  WEEK_NO  total_discount  percentage_disc  \n",
       "4           31742        1           -0.79              1.0  \n",
       "51            315        1           -1.20              1.0  \n",
       "59            315        1           -1.34              1.0  \n",
       "136           324        1           -1.00              1.0  \n",
       "140           324        1           -1.42              1.0  \n",
       "...           ...      ...             ...              ...  \n",
       "2146069       402      102           -1.29              1.0  \n",
       "2146081       402      102           -5.99              1.0  \n",
       "2146095       402      102           -2.99              1.0  \n",
       "2146259       343      102           -1.00              1.0  \n",
       "2146277       343      102           -1.29              1.0  \n",
       "\n",
       "[75901 rows x 10 columns]"
      ]
     },
     "execution_count": 9,
     "metadata": {},
     "output_type": "execute_result"
    }
   ],
   "source": [
    "transactions[\"percentage_disc\"] = (transactions[\"percentage_disc\"]\n",
    "                                   .where(transactions[\"percentage_disc\"] < 1,1.0)\n",
    "                                   .where(transactions[\"percentage_disc\"]>0, 0))\n",
    "transactions[transactions[\"percentage_disc\"] == 1]"
   ]
  },
  {
   "cell_type": "markdown",
   "id": "7194e351",
   "metadata": {},
   "source": [
    "## Overall Statistics\n",
    "\n",
    "Calculate:\n",
    "\n",
    "* The total sales (sum of `SALES_VALUE`), \n",
    "* Total discount (sum of `total_discount`)\n",
    "* Overall percentage discount (sum of total_discount / sum of sales value)\n",
    "* Total quantity sold (sum of `QUANTITY`).\n",
    "* Max quantity sold in a single row. Inspect the row as well. Does this have a high discount percentage?\n",
    "* Total sales value per basket (sum of sales value / nunique basket_id).\n",
    "* Total sales value per household (sum of sales value / nunique household_key). "
   ]
  },
  {
   "cell_type": "code",
   "execution_count": 16,
   "id": "8b828816",
   "metadata": {},
   "outputs": [
    {
     "data": {
      "text/plain": [
       "6666243.5"
      ]
     },
     "execution_count": 16,
     "metadata": {},
     "output_type": "execute_result"
    }
   ],
   "source": [
    "# total salews value\n",
    "transactions[\"SALES_VALUE\"].sum().round(2)"
   ]
  },
  {
   "cell_type": "code",
   "execution_count": 17,
   "id": "4e041e76",
   "metadata": {},
   "outputs": [
    {
     "data": {
      "text/plain": [
       "-1178658.08"
      ]
     },
     "execution_count": 17,
     "metadata": {},
     "output_type": "execute_result"
    }
   ],
   "source": [
    "#total discount\n",
    "transactions[\"total_discount\"].sum().round(2)"
   ]
  },
  {
   "cell_type": "code",
   "execution_count": 18,
   "id": "2250c8a8",
   "metadata": {},
   "outputs": [
    {
     "data": {
      "text/plain": [
       "-0.1768099350106248"
      ]
     },
     "execution_count": 18,
     "metadata": {},
     "output_type": "execute_result"
    }
   ],
   "source": [
    "#total percentage discount\n",
    "transactions[\"total_discount\"].sum()/transactions[\"SALES_VALUE\"].sum()"
   ]
  },
  {
   "cell_type": "code",
   "execution_count": 20,
   "id": "f615a466",
   "metadata": {},
   "outputs": [
    {
     "data": {
      "text/plain": [
       "216713611"
      ]
     },
     "execution_count": 20,
     "metadata": {},
     "output_type": "execute_result"
    }
   ],
   "source": [
    "#Total quantity \n",
    "transactions['QUANTITY'].sum()"
   ]
  },
  {
   "cell_type": "markdown",
   "id": "89016a20",
   "metadata": {},
   "source": [
    "## Household Analysis\n",
    "\n",
    "* Plot the distribution of total sales value purchased at the household level. \n",
    "* What were the top 10 households by quantity purchased?\n",
    "* What were the top 10 households by sales value?\n",
    "* Plot the total sales value for our top 10 households by value, ordered from highest to lowest.\n"
   ]
  },
  {
   "cell_type": "code",
   "execution_count": 26,
   "id": "c3e70a6b",
   "metadata": {},
   "outputs": [
    {
     "data": {
      "text/plain": [
       "<Axes: ylabel='Frequency'>"
      ]
     },
     "execution_count": 26,
     "metadata": {},
     "output_type": "execute_result"
    },
    {
     "data": {
      "image/png": "[encoded data removed]",
      "text/plain": [
       "<Figure size 640x480 with 1 Axes>"
      ]
     },
     "metadata": {},
     "output_type": "display_data"
    }
   ],
   "source": [
    "mask = transactions.groupby(['household_key'])[\"SALES_VALUE\"].sum()\n",
    "mask.plot.hist(legend = True)"
   ]
  },
  {
   "cell_type": "code",
   "execution_count": 36,
   "id": "92654f01",
   "metadata": {},
   "outputs": [
    {
     "data": {
      "text/plain": [
       "household_key\n",
       "1023    4479917\n",
       "755     3141769\n",
       "1609    2146715\n",
       "13      1863829\n",
       "1430    1741892\n",
       "1527    1734632\n",
       "1762    1669880\n",
       "707     1640193\n",
       "1029    1496204\n",
       "1314    1492863\n",
       "Name: QUANTITY, dtype: int64"
      ]
     },
     "execution_count": 36,
     "metadata": {},
     "output_type": "execute_result"
    }
   ],
   "source": [
    "top10quantity = (transactions.groupby([\"household_key\"])[\"QUANTITY\"].sum()).sort_values(ascending = False).iloc[:10]\n",
    "top10quantity"
   ]
  },
  {
   "cell_type": "code",
   "execution_count": 39,
   "id": "3a8e4d39",
   "metadata": {},
   "outputs": [
    {
     "data": {
      "text/plain": [
       "household_key\n",
       "1023    38319.79\n",
       "1609    27859.68\n",
       "1453    21661.29\n",
       "1430    20352.99\n",
       "718     19299.86\n",
       "707     19194.42\n",
       "1653    19153.75\n",
       "1111    18894.72\n",
       "982     18790.34\n",
       "400     18494.14\n",
       "Name: SALES_VALUE, dtype: float64"
      ]
     },
     "execution_count": 39,
     "metadata": {},
     "output_type": "execute_result"
    }
   ],
   "source": [
    "top10sale = (transactions.groupby([\"household_key\"])[\"SALES_VALUE\"].sum().sort_values(ascending = False).iloc[:10])\n",
    "top10sale"
   ]
  },
  {
   "cell_type": "code",
   "execution_count": 42,
   "id": "f97e9e1d",
   "metadata": {},
   "outputs": [
    {
     "data": {
      "text/plain": [
       "<Axes: xlabel='household_key'>"
      ]
     },
     "execution_count": 42,
     "metadata": {},
     "output_type": "execute_result"
    },
    {
     "data": {
      "image/png": "[encoded data removed]",
      "text/plain": [
       "<Figure size 640x480 with 1 Axes>"
      ]
     },
     "metadata": {},
     "output_type": "display_data"
    }
   ],
   "source": [
    "top10sale.plot.bar()"
   ]
  },
  {
   "cell_type": "markdown",
   "id": "24204c05",
   "metadata": {},
   "source": [
    "## Product Analysis\n",
    "\n",
    "* Which products had the most sales by sales_value? Plot  a horizontal bar chart.\n",
    "* Did the top 10 selling items have a higher than average discount rate?\n",
    "* What was the most common `PRODUCT_ID` among rows with the households in our top 10 households by sales value?\n",
    "* Look up the names of the  top 10 products by sales in the `products.csv` dataset.\n",
    "* Look up the product name of the item that had the highest quantity sold in a single row."
   ]
  },
  {
   "cell_type": "code",
   "execution_count": 61,
   "id": "b78a084a",
   "metadata": {},
   "outputs": [
    {
     "data": {
      "text/plain": [
       "<Axes: xlabel='Amount', ylabel='Product_id'>"
      ]
     },
     "execution_count": 61,
     "metadata": {},
     "output_type": "execute_result"
    },
    {
     "data": {
      "image/png": "[encoded data removed]",
      "text/plain": [
       "<Figure size 640x480 with 1 Axes>"
      ]
     },
     "metadata": {},
     "output_type": "display_data"
    }
   ],
   "source": [
    "top10product = (transactions.groupby([\"PRODUCT_ID\"])[\"SALES_VALUE\"].sum().sort_values(ascending = False).iloc[:10])\n",
    "top10product.plot.barh(legend = True,\n",
    "                     xlabel = 'Amount',\n",
    "                     ylabel = \"Product_id\",\n",
    "                      color = \"black\")\n"
   ]
  },
  {
   "cell_type": "code",
   "execution_count": 70,
   "id": "d09ad840",
   "metadata": {},
   "outputs": [
    {
     "data": {
      "text/plain": [
       "-0.10331267387397927"
      ]
     },
     "execution_count": 70,
     "metadata": {},
     "output_type": "execute_result"
    }
   ],
   "source": [
    "# Calculate the total discount for top 10 products\n",
    "# Divide that by sales value for top 10 products\n",
    "\n",
    "disc = transactions.query(\"PRODUCT_ID in @top10product.index\")[\"total_discount\"].sum()\n",
    "sale = transactions.query(\"PRODUCT_ID in @top10product.index\")[\"SALES_VALUE\"].sum()\n",
    "disc/sale"
   ]
  },
  {
   "cell_type": "code",
   "execution_count": 72,
   "id": "97915532",
   "metadata": {},
   "outputs": [
    {
     "data": {
      "text/html": [
       "<div>\n",
       "<style scoped>\n",
       "    .dataframe tbody tr th:only-of-type {\n",
       "        vertical-align: middle;\n",
       "    }\n",
       "\n",
       "    .dataframe tbody tr th {\n",
       "        vertical-align: top;\n",
       "    }\n",
       "\n",
       "    .dataframe thead th {\n",
       "        text-align: right;\n",
       "    }\n",
       "</style>\n",
       "<table border=\"1\" class=\"dataframe\">\n",
       "  <thead>\n",
       "    <tr style=\"text-align: right;\">\n",
       "      <th></th>\n",
       "      <th>PRODUCT_ID</th>\n",
       "      <th>MANUFACTURER</th>\n",
       "      <th>DEPARTMENT</th>\n",
       "      <th>BRAND</th>\n",
       "      <th>COMMODITY_DESC</th>\n",
       "      <th>SUB_COMMODITY_DESC</th>\n",
       "      <th>CURR_SIZE_OF_PRODUCT</th>\n",
       "    </tr>\n",
       "  </thead>\n",
       "  <tbody>\n",
       "    <tr>\n",
       "      <th>0</th>\n",
       "      <td>25671</td>\n",
       "      <td>2</td>\n",
       "      <td>GROCERY</td>\n",
       "      <td>National</td>\n",
       "      <td>FRZN ICE</td>\n",
       "      <td>ICE - CRUSHED/CUBED</td>\n",
       "      <td>22 LB</td>\n",
       "    </tr>\n",
       "    <tr>\n",
       "      <th>1</th>\n",
       "      <td>26081</td>\n",
       "      <td>2</td>\n",
       "      <td>MISC. TRANS.</td>\n",
       "      <td>National</td>\n",
       "      <td>NO COMMODITY DESCRIPTION</td>\n",
       "      <td>NO SUBCOMMODITY DESCRIPTION</td>\n",
       "      <td></td>\n",
       "    </tr>\n",
       "    <tr>\n",
       "      <th>2</th>\n",
       "      <td>26093</td>\n",
       "      <td>69</td>\n",
       "      <td>PASTRY</td>\n",
       "      <td>Private</td>\n",
       "      <td>BREAD</td>\n",
       "      <td>BREAD:ITALIAN/FRENCH</td>\n",
       "      <td></td>\n",
       "    </tr>\n",
       "    <tr>\n",
       "      <th>3</th>\n",
       "      <td>26190</td>\n",
       "      <td>69</td>\n",
       "      <td>GROCERY</td>\n",
       "      <td>Private</td>\n",
       "      <td>FRUIT - SHELF STABLE</td>\n",
       "      <td>APPLE SAUCE</td>\n",
       "      <td>50 OZ</td>\n",
       "    </tr>\n",
       "    <tr>\n",
       "      <th>4</th>\n",
       "      <td>26355</td>\n",
       "      <td>69</td>\n",
       "      <td>GROCERY</td>\n",
       "      <td>Private</td>\n",
       "      <td>COOKIES/CONES</td>\n",
       "      <td>SPECIALTY COOKIES</td>\n",
       "      <td>14 OZ</td>\n",
       "    </tr>\n",
       "  </tbody>\n",
       "</table>\n",
       "</div>"
      ],
      "text/plain": [
       "   PRODUCT_ID  MANUFACTURER    DEPARTMENT     BRAND            COMMODITY_DESC  \\\n",
       "0       25671             2       GROCERY  National                  FRZN ICE   \n",
       "1       26081             2  MISC. TRANS.  National  NO COMMODITY DESCRIPTION   \n",
       "2       26093            69        PASTRY   Private                     BREAD   \n",
       "3       26190            69       GROCERY   Private      FRUIT - SHELF STABLE   \n",
       "4       26355            69       GROCERY   Private             COOKIES/CONES   \n",
       "\n",
       "            SUB_COMMODITY_DESC CURR_SIZE_OF_PRODUCT  \n",
       "0          ICE - CRUSHED/CUBED                22 LB  \n",
       "1  NO SUBCOMMODITY DESCRIPTION                       \n",
       "2         BREAD:ITALIAN/FRENCH                       \n",
       "3                  APPLE SAUCE                50 OZ  \n",
       "4            SPECIALTY COOKIES                14 OZ  "
      ]
     },
     "execution_count": 72,
     "metadata": {},
     "output_type": "execute_result"
    }
   ],
   "source": [
    "products = pd.read_csv(\"../project_data/product.csv\")\n",
    "\n",
    "products.head()"
   ]
  },
  {
   "cell_type": "code",
   "execution_count": 83,
   "id": "abc6de0e",
   "metadata": {},
   "outputs": [
    {
     "data": {
      "text/plain": [
       "Int64Index([1082185, 1029743, 6534178, 6533889, 1127831,  951590,  860776,\n",
       "            1106523,  981760, 9677202],\n",
       "           dtype='int64')"
      ]
     },
     "execution_count": 83,
     "metadata": {},
     "output_type": "execute_result"
    }
   ],
   "source": [
    "top_hh_products = transactions.query(\"household_key in @top10sale.index\").loc[:,\"PRODUCT_ID\"].value_counts().iloc[:10].index\n",
    "top_hh_products"
   ]
  },
  {
   "cell_type": "code",
   "execution_count": 85,
   "id": "b545f589",
   "metadata": {},
   "outputs": [
    {
     "data": {
      "text/html": [
       "<div>\n",
       "<style scoped>\n",
       "    .dataframe tbody tr th:only-of-type {\n",
       "        vertical-align: middle;\n",
       "    }\n",
       "\n",
       "    .dataframe tbody tr th {\n",
       "        vertical-align: top;\n",
       "    }\n",
       "\n",
       "    .dataframe thead th {\n",
       "        text-align: right;\n",
       "    }\n",
       "</style>\n",
       "<table border=\"1\" class=\"dataframe\">\n",
       "  <thead>\n",
       "    <tr style=\"text-align: right;\">\n",
       "      <th></th>\n",
       "      <th>PRODUCT_ID</th>\n",
       "      <th>MANUFACTURER</th>\n",
       "      <th>DEPARTMENT</th>\n",
       "      <th>BRAND</th>\n",
       "      <th>COMMODITY_DESC</th>\n",
       "      <th>SUB_COMMODITY_DESC</th>\n",
       "      <th>CURR_SIZE_OF_PRODUCT</th>\n",
       "    </tr>\n",
       "  </thead>\n",
       "  <tbody>\n",
       "    <tr>\n",
       "      <th>10630</th>\n",
       "      <td>860776</td>\n",
       "      <td>2</td>\n",
       "      <td>PRODUCE</td>\n",
       "      <td>National</td>\n",
       "      <td>VEGETABLES - ALL OTHERS</td>\n",
       "      <td>CUCUMBERS</td>\n",
       "      <td>36 CT</td>\n",
       "    </tr>\n",
       "    <tr>\n",
       "      <th>20973</th>\n",
       "      <td>951590</td>\n",
       "      <td>910</td>\n",
       "      <td>GROCERY</td>\n",
       "      <td>National</td>\n",
       "      <td>BAKED BREAD/BUNS/ROLLS</td>\n",
       "      <td>MAINSTREAM WHITE BREAD</td>\n",
       "      <td>20 OZ</td>\n",
       "    </tr>\n",
       "    <tr>\n",
       "      <th>24250</th>\n",
       "      <td>981760</td>\n",
       "      <td>69</td>\n",
       "      <td>GROCERY</td>\n",
       "      <td>Private</td>\n",
       "      <td>EGGS</td>\n",
       "      <td>EGGS - X-LARGE</td>\n",
       "      <td>1 DZ</td>\n",
       "    </tr>\n",
       "    <tr>\n",
       "      <th>29657</th>\n",
       "      <td>1029743</td>\n",
       "      <td>69</td>\n",
       "      <td>GROCERY</td>\n",
       "      <td>Private</td>\n",
       "      <td>FLUID MILK PRODUCTS</td>\n",
       "      <td>FLUID MILK WHITE ONLY</td>\n",
       "      <td>1 GA</td>\n",
       "    </tr>\n",
       "    <tr>\n",
       "      <th>35576</th>\n",
       "      <td>1082185</td>\n",
       "      <td>2</td>\n",
       "      <td>PRODUCE</td>\n",
       "      <td>National</td>\n",
       "      <td>TROPICAL FRUIT</td>\n",
       "      <td>BANANAS</td>\n",
       "      <td>40 LB</td>\n",
       "    </tr>\n",
       "    <tr>\n",
       "      <th>38262</th>\n",
       "      <td>1106523</td>\n",
       "      <td>69</td>\n",
       "      <td>GROCERY</td>\n",
       "      <td>Private</td>\n",
       "      <td>FLUID MILK PRODUCTS</td>\n",
       "      <td>FLUID MILK WHITE ONLY</td>\n",
       "      <td>1 GA</td>\n",
       "    </tr>\n",
       "    <tr>\n",
       "      <th>40600</th>\n",
       "      <td>1127831</td>\n",
       "      <td>5937</td>\n",
       "      <td>PRODUCE</td>\n",
       "      <td>National</td>\n",
       "      <td>BERRIES</td>\n",
       "      <td>STRAWBERRIES</td>\n",
       "      <td>16 OZ</td>\n",
       "    </tr>\n",
       "    <tr>\n",
       "      <th>57181</th>\n",
       "      <td>6533889</td>\n",
       "      <td>69</td>\n",
       "      <td>MISC SALES TRAN</td>\n",
       "      <td>Private</td>\n",
       "      <td>COUPON/MISC ITEMS</td>\n",
       "      <td>GASOLINE-REG UNLEADED</td>\n",
       "      <td></td>\n",
       "    </tr>\n",
       "    <tr>\n",
       "      <th>57221</th>\n",
       "      <td>6534178</td>\n",
       "      <td>69</td>\n",
       "      <td>KIOSK-GAS</td>\n",
       "      <td>Private</td>\n",
       "      <td>COUPON/MISC ITEMS</td>\n",
       "      <td>GASOLINE-REG UNLEADED</td>\n",
       "      <td></td>\n",
       "    </tr>\n",
       "    <tr>\n",
       "      <th>68952</th>\n",
       "      <td>9677202</td>\n",
       "      <td>69</td>\n",
       "      <td>GROCERY</td>\n",
       "      <td>Private</td>\n",
       "      <td>PAPER TOWELS</td>\n",
       "      <td>PAPER TOWELS &amp; HOLDERS</td>\n",
       "      <td></td>\n",
       "    </tr>\n",
       "  </tbody>\n",
       "</table>\n",
       "</div>"
      ],
      "text/plain": [
       "       PRODUCT_ID  MANUFACTURER       DEPARTMENT     BRAND  \\\n",
       "10630      860776             2          PRODUCE  National   \n",
       "20973      951590           910          GROCERY  National   \n",
       "24250      981760            69          GROCERY   Private   \n",
       "29657     1029743            69          GROCERY   Private   \n",
       "35576     1082185             2          PRODUCE  National   \n",
       "38262     1106523            69          GROCERY   Private   \n",
       "40600     1127831          5937          PRODUCE  National   \n",
       "57181     6533889            69  MISC SALES TRAN   Private   \n",
       "57221     6534178            69        KIOSK-GAS   Private   \n",
       "68952     9677202            69          GROCERY   Private   \n",
       "\n",
       "                COMMODITY_DESC      SUB_COMMODITY_DESC CURR_SIZE_OF_PRODUCT  \n",
       "10630  VEGETABLES - ALL OTHERS               CUCUMBERS                36 CT  \n",
       "20973   BAKED BREAD/BUNS/ROLLS  MAINSTREAM WHITE BREAD                20 OZ  \n",
       "24250                     EGGS          EGGS - X-LARGE                 1 DZ  \n",
       "29657      FLUID MILK PRODUCTS   FLUID MILK WHITE ONLY                 1 GA  \n",
       "35576           TROPICAL FRUIT                 BANANAS                40 LB  \n",
       "38262      FLUID MILK PRODUCTS   FLUID MILK WHITE ONLY                 1 GA  \n",
       "40600                  BERRIES            STRAWBERRIES                16 OZ  \n",
       "57181        COUPON/MISC ITEMS   GASOLINE-REG UNLEADED                       \n",
       "57221        COUPON/MISC ITEMS   GASOLINE-REG UNLEADED                       \n",
       "68952             PAPER TOWELS  PAPER TOWELS & HOLDERS                       "
      ]
     },
     "execution_count": 85,
     "metadata": {},
     "output_type": "execute_result"
    }
   ],
   "source": [
    "products.query(\"PRODUCT_ID in @top_hh_products\")"
   ]
  },
  {
   "cell_type": "code",
   "execution_count": 89,
   "id": "7806f6ad",
   "metadata": {},
   "outputs": [
    {
     "data": {
      "text/html": [
       "<div>\n",
       "<style scoped>\n",
       "    .dataframe tbody tr th:only-of-type {\n",
       "        vertical-align: middle;\n",
       "    }\n",
       "\n",
       "    .dataframe tbody tr th {\n",
       "        vertical-align: top;\n",
       "    }\n",
       "\n",
       "    .dataframe thead th {\n",
       "        text-align: right;\n",
       "    }\n",
       "</style>\n",
       "<table border=\"1\" class=\"dataframe\">\n",
       "  <thead>\n",
       "    <tr style=\"text-align: right;\">\n",
       "      <th></th>\n",
       "      <th>PRODUCT_ID</th>\n",
       "      <th>MANUFACTURER</th>\n",
       "      <th>DEPARTMENT</th>\n",
       "      <th>BRAND</th>\n",
       "      <th>COMMODITY_DESC</th>\n",
       "      <th>SUB_COMMODITY_DESC</th>\n",
       "      <th>CURR_SIZE_OF_PRODUCT</th>\n",
       "    </tr>\n",
       "  </thead>\n",
       "  <tbody>\n",
       "    <tr>\n",
       "      <th>16863</th>\n",
       "      <td>916122</td>\n",
       "      <td>4314</td>\n",
       "      <td>MEAT</td>\n",
       "      <td>National</td>\n",
       "      <td>CHICKEN</td>\n",
       "      <td>CHICKEN BREAST BONELESS</td>\n",
       "      <td></td>\n",
       "    </tr>\n",
       "    <tr>\n",
       "      <th>25754</th>\n",
       "      <td>995242</td>\n",
       "      <td>69</td>\n",
       "      <td>GROCERY</td>\n",
       "      <td>Private</td>\n",
       "      <td>FLUID MILK PRODUCTS</td>\n",
       "      <td>FLUID MILK WHITE ONLY</td>\n",
       "      <td></td>\n",
       "    </tr>\n",
       "    <tr>\n",
       "      <th>29657</th>\n",
       "      <td>1029743</td>\n",
       "      <td>69</td>\n",
       "      <td>GROCERY</td>\n",
       "      <td>Private</td>\n",
       "      <td>FLUID MILK PRODUCTS</td>\n",
       "      <td>FLUID MILK WHITE ONLY</td>\n",
       "      <td>1 GA</td>\n",
       "    </tr>\n",
       "    <tr>\n",
       "      <th>35576</th>\n",
       "      <td>1082185</td>\n",
       "      <td>2</td>\n",
       "      <td>PRODUCE</td>\n",
       "      <td>National</td>\n",
       "      <td>TROPICAL FRUIT</td>\n",
       "      <td>BANANAS</td>\n",
       "      <td>40 LB</td>\n",
       "    </tr>\n",
       "    <tr>\n",
       "      <th>38262</th>\n",
       "      <td>1106523</td>\n",
       "      <td>69</td>\n",
       "      <td>GROCERY</td>\n",
       "      <td>Private</td>\n",
       "      <td>FLUID MILK PRODUCTS</td>\n",
       "      <td>FLUID MILK WHITE ONLY</td>\n",
       "      <td>1 GA</td>\n",
       "    </tr>\n",
       "    <tr>\n",
       "      <th>53097</th>\n",
       "      <td>5569230</td>\n",
       "      <td>1208</td>\n",
       "      <td>GROCERY</td>\n",
       "      <td>National</td>\n",
       "      <td>SOFT DRINKS</td>\n",
       "      <td>SOFT DRINKS 12/18&amp;15PK CAN CAR</td>\n",
       "      <td>12 OZ</td>\n",
       "    </tr>\n",
       "    <tr>\n",
       "      <th>57171</th>\n",
       "      <td>6533765</td>\n",
       "      <td>69</td>\n",
       "      <td>KIOSK-GAS</td>\n",
       "      <td>Private</td>\n",
       "      <td>FUEL</td>\n",
       "      <td>GASOLINE-REG UNLEADED</td>\n",
       "      <td></td>\n",
       "    </tr>\n",
       "    <tr>\n",
       "      <th>57181</th>\n",
       "      <td>6533889</td>\n",
       "      <td>69</td>\n",
       "      <td>MISC SALES TRAN</td>\n",
       "      <td>Private</td>\n",
       "      <td>COUPON/MISC ITEMS</td>\n",
       "      <td>GASOLINE-REG UNLEADED</td>\n",
       "      <td></td>\n",
       "    </tr>\n",
       "    <tr>\n",
       "      <th>57216</th>\n",
       "      <td>6534166</td>\n",
       "      <td>69</td>\n",
       "      <td>MISC SALES TRAN</td>\n",
       "      <td>Private</td>\n",
       "      <td>COUPON/MISC ITEMS</td>\n",
       "      <td>GASOLINE-REG UNLEADED</td>\n",
       "      <td></td>\n",
       "    </tr>\n",
       "    <tr>\n",
       "      <th>57221</th>\n",
       "      <td>6534178</td>\n",
       "      <td>69</td>\n",
       "      <td>KIOSK-GAS</td>\n",
       "      <td>Private</td>\n",
       "      <td>COUPON/MISC ITEMS</td>\n",
       "      <td>GASOLINE-REG UNLEADED</td>\n",
       "      <td></td>\n",
       "    </tr>\n",
       "  </tbody>\n",
       "</table>\n",
       "</div>"
      ],
      "text/plain": [
       "       PRODUCT_ID  MANUFACTURER       DEPARTMENT     BRAND  \\\n",
       "16863      916122          4314             MEAT  National   \n",
       "25754      995242            69          GROCERY   Private   \n",
       "29657     1029743            69          GROCERY   Private   \n",
       "35576     1082185             2          PRODUCE  National   \n",
       "38262     1106523            69          GROCERY   Private   \n",
       "53097     5569230          1208          GROCERY  National   \n",
       "57171     6533765            69        KIOSK-GAS   Private   \n",
       "57181     6533889            69  MISC SALES TRAN   Private   \n",
       "57216     6534166            69  MISC SALES TRAN   Private   \n",
       "57221     6534178            69        KIOSK-GAS   Private   \n",
       "\n",
       "            COMMODITY_DESC              SUB_COMMODITY_DESC  \\\n",
       "16863              CHICKEN         CHICKEN BREAST BONELESS   \n",
       "25754  FLUID MILK PRODUCTS           FLUID MILK WHITE ONLY   \n",
       "29657  FLUID MILK PRODUCTS           FLUID MILK WHITE ONLY   \n",
       "35576       TROPICAL FRUIT                         BANANAS   \n",
       "38262  FLUID MILK PRODUCTS           FLUID MILK WHITE ONLY   \n",
       "53097          SOFT DRINKS  SOFT DRINKS 12/18&15PK CAN CAR   \n",
       "57171                 FUEL           GASOLINE-REG UNLEADED   \n",
       "57181    COUPON/MISC ITEMS           GASOLINE-REG UNLEADED   \n",
       "57216    COUPON/MISC ITEMS           GASOLINE-REG UNLEADED   \n",
       "57221    COUPON/MISC ITEMS           GASOLINE-REG UNLEADED   \n",
       "\n",
       "      CURR_SIZE_OF_PRODUCT  \n",
       "16863                       \n",
       "25754                       \n",
       "29657                 1 GA  \n",
       "35576                40 LB  \n",
       "38262                 1 GA  \n",
       "53097                12 OZ  \n",
       "57171                       \n",
       "57181                       \n",
       "57216                       \n",
       "57221                       "
      ]
     },
     "execution_count": 89,
     "metadata": {},
     "output_type": "execute_result"
    }
   ],
   "source": [
    "products.query(\"PRODUCT_ID in @top10product.index\")"
   ]
  },
  {
   "cell_type": "code",
   "execution_count": 90,
   "id": "4b2fc094",
   "metadata": {},
   "outputs": [
    {
     "data": {
      "text/html": [
       "<div>\n",
       "<style scoped>\n",
       "    .dataframe tbody tr th:only-of-type {\n",
       "        vertical-align: middle;\n",
       "    }\n",
       "\n",
       "    .dataframe tbody tr th {\n",
       "        vertical-align: top;\n",
       "    }\n",
       "\n",
       "    .dataframe thead th {\n",
       "        text-align: right;\n",
       "    }\n",
       "</style>\n",
       "<table border=\"1\" class=\"dataframe\">\n",
       "  <thead>\n",
       "    <tr style=\"text-align: right;\">\n",
       "      <th></th>\n",
       "      <th>PRODUCT_ID</th>\n",
       "      <th>MANUFACTURER</th>\n",
       "      <th>DEPARTMENT</th>\n",
       "      <th>BRAND</th>\n",
       "      <th>COMMODITY_DESC</th>\n",
       "      <th>SUB_COMMODITY_DESC</th>\n",
       "      <th>CURR_SIZE_OF_PRODUCT</th>\n",
       "    </tr>\n",
       "  </thead>\n",
       "  <tbody>\n",
       "    <tr>\n",
       "      <th>57221</th>\n",
       "      <td>6534178</td>\n",
       "      <td>69</td>\n",
       "      <td>KIOSK-GAS</td>\n",
       "      <td>Private</td>\n",
       "      <td>COUPON/MISC ITEMS</td>\n",
       "      <td>GASOLINE-REG UNLEADED</td>\n",
       "      <td></td>\n",
       "    </tr>\n",
       "  </tbody>\n",
       "</table>\n",
       "</div>"
      ],
      "text/plain": [
       "       PRODUCT_ID  MANUFACTURER DEPARTMENT    BRAND     COMMODITY_DESC  \\\n",
       "57221     6534178            69  KIOSK-GAS  Private  COUPON/MISC ITEMS   \n",
       "\n",
       "          SUB_COMMODITY_DESC CURR_SIZE_OF_PRODUCT  \n",
       "57221  GASOLINE-REG UNLEADED                       "
      ]
     },
     "execution_count": 90,
     "metadata": {},
     "output_type": "execute_result"
    }
   ],
   "source": [
    "products.query(\"PRODUCT_ID == 6534178\")"
   ]
  }
 ],
 "metadata": {
  "kernelspec": {
   "display_name": "Python 3 (ipykernel)",
   "language": "python",
   "name": "python3"
  },
  "language_info": {
   "codemirror_mode": {
    "name": "ipython",
    "version": 3
   },
   "file_extension": ".py",
   "mimetype": "text/x-python",
   "name": "python",
   "nbconvert_exporter": "python",
   "pygments_lexer": "ipython3",
   "version": "3.10.9"
  }
 },
 "nbformat": 4,
 "nbformat_minor": 5
}
