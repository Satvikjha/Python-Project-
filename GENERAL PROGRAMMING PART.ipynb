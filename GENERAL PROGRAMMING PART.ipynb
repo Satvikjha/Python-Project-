{
 "cells": [
  {
   "cell_type": "markdown",
   "id": "aab09146",
   "metadata": {},
   "source": [
    "#**Task 1**"
   ]
  },
  {
   "cell_type": "code",
   "execution_count": 1,
   "id": "4569bdb3",
   "metadata": {},
   "outputs": [
    {
     "name": "stdout",
     "output_type": "stream",
     "text": [
      "AT DAWN LOOK TO THE EAST\n"
     ]
    }
   ],
   "source": [
    "def morse_code_decoder(code):\n",
    "    morse_to_char = {\n",
    "        '.-': 'A', '-...': 'B', '-.-.': 'C', '-..': 'D', '.': 'E',\n",
    "        '..-.': 'F', '--.': 'G', '....': 'H', '..': 'I', '.---': 'J',\n",
    "        '-.-': 'K', '.-..': 'L', '--': 'M', '-.': 'N', '---': 'O',\n",
    "        '.--.': 'P', '--.-': 'Q', '.-.': 'R', '...': 'S', '-': 'T',\n",
    "        '..-': 'U', '...-': 'V', '.--': 'W', '-..-': 'X', '-.--': 'Y',\n",
    "        '--..': 'Z', '.----': '1', '..---': '2', '...--': '3', '....-': '4',\n",
    "        '.....': '5', '-....': '6', '--...': '7', '---..': '8', '----.': '9',\n",
    "        '-----': '0'\n",
    "    }\n",
    "    \n",
    "    words = code.split('   ')  \n",
    "    decoded_message = ''\n",
    "    \n",
    "    for word in words:\n",
    "        letters = word.split()  \n",
    "        for letter in letters:\n",
    "            if letter in morse_to_char:\n",
    "                decoded_message += morse_to_char[letter]\n",
    "            else:\n",
    "                decoded_message += '?'  \n",
    "        decoded_message += ' '  \n",
    "    return decoded_message.strip()  \n",
    "\n",
    "\n",
    "morse_code = '.- -   -.. .- .-- -.   .-.. --- --- -.-   - ---   - .... .   . .- ... -'\n",
    "decoded_text = morse_code_decoder(morse_code)\n",
    "print(decoded_text)  \n"
   ]
  },
  {
   "cell_type": "markdown",
   "id": "e0003928",
   "metadata": {},
   "source": [
    "#**Task 2**"
   ]
  },
  {
   "cell_type": "code",
   "execution_count": 4,
   "id": "41f63bc2",
   "metadata": {},
   "outputs": [
    {
     "name": "stdout",
     "output_type": "stream",
     "text": [
      "AT NWAD KOOL TO THE TSAE\n",
      "My emaN Is kivtaS Jha And i evaH detaelpmoC all sihT !sksaT uoyknhaT\n"
     ]
    }
   ],
   "source": [
    "def encode_sentence(sentence):\n",
    "    words = sentence.split()\n",
    "    \n",
    "    encoded_words = []\n",
    "    for word in words:\n",
    "        if len(word) > 3:\n",
    "            encoded_word = word[::-1]\n",
    "        else:\n",
    "            encoded_word = word\n",
    "        encoded_words.append(encoded_word)\n",
    "    \n",
    "    encoded_sentence = ' '.join(encoded_words)\n",
    "    return encoded_sentence\n",
    "\n",
    "input_sentence = \"AT DAWN LOOK TO THE EAST\"\n",
    "encoded_sentence = encode_sentence(input_sentence)\n",
    "print(encoded_sentence)\n",
    "\n",
    "encoded_sentence2 = encode_sentence(\"My Name Is Satvik Jha And i Have Compleated all This Tasks! Tahnkyou\")\n",
    "print(encoded_sentence2)"
   ]
  }
 ],
 "metadata": {
  "kernelspec": {
   "display_name": "Python 3 (ipykernel)",
   "language": "python",
   "name": "python3"
  },
  "language_info": {
   "codemirror_mode": {
    "name": "ipython",
    "version": 3
   },
   "file_extension": ".py",
   "mimetype": "text/x-python",
   "name": "python",
   "nbconvert_exporter": "python",
   "pygments_lexer": "ipython3",
   "version": "3.10.9"
  }
 },
 "nbformat": 4,
 "nbformat_minor": 5
}
